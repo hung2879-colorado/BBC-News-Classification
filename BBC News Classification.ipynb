{
 "cells": [
  {
   "cell_type": "markdown",
   "id": "68e36b22",
   "metadata": {},
   "source": [
    "## Introduction\n",
    "Sentiment analysis, also referred to as opinion mining, is an approach to natural language processing (NLP) that identifies the emotional tone behind a body of text. This is a popular way for organizations to determine and categorize opinions about a product, service or idea. \n",
    "\n",
    "The objective of this study is to understand and implement a method of subfield study of NLP which is to transform the words into vectors, and to apply an unsupervised learning model as well as to apply a supervised learning model to make classify BBC News into correct category. In the end, we will compare between supervised and unsupervised learning models."
   ]
  },
  {
   "cell_type": "markdown",
   "id": "9559d7ec",
   "metadata": {},
   "source": [
    "## Description of dataset\n",
    "We’ll use a public dataset from the BBC comprised of 2225 articles, each labeled under one of 5 categories: business, entertainment, politics, sport or tech.\n",
    "\n",
    "The dataset is broken into 1490 records for training and 735 for testing. The goal will be to build a system that can accurately classify previously unseen news articles into the right category.\n",
    "\n",
    "The competition is evaluated using Accuracy as a metric."
   ]
  },
  {
   "cell_type": "markdown",
   "id": "52d117a3",
   "metadata": {},
   "source": [
    "## Obtaining the dataset\n",
    "You can download the dataset in a csv file from Kaggle at following link https://www.kaggle.com/competitions/learn-ai-bbc/overview  \n",
    "<br>\n",
    "There are 3 files:  \n",
    "<br>\n",
    "BBC News Train.csv - the training set of 1490 records  \n",
    "BBC News Test.csv - the test set of 736 records  \n",
    "BBC News Sample Solution.csv - a sample submission file in the correct format  \n",
    "<br>\n"
   ]
  },
  {
   "cell_type": "markdown",
   "id": "abc161a5",
   "metadata": {},
   "source": [
    "## Libraries Import"
   ]
  },
  {
   "cell_type": "code",
   "execution_count": 1,
   "id": "d3520d4f",
   "metadata": {},
   "outputs": [
    {
     "name": "stderr",
     "output_type": "stream",
     "text": [
      "[nltk_data] Downloading package stopwords to\n",
      "[nltk_data]     C:\\Users\\Admin\\AppData\\Roaming\\nltk_data...\n",
      "[nltk_data]   Package stopwords is already up-to-date!\n"
     ]
    }
   ],
   "source": [
    "import pandas as pd\n",
    "import matplotlib.pyplot as plt\n",
    "import numpy as np\n",
    "import seaborn as sns\n",
    "import re\n",
    "import nltk\n",
    "import warnings\n",
    "nltk.download('stopwords')\n",
    "from nltk.corpus import stopwords\n",
    "from sklearn.model_selection import train_test_split, GridSearchCV, KFold, cross_val_predict, cross_val_score\n",
    "from collections import defaultdict\n",
    "from sklearn.metrics import precision_score, recall_score, accuracy_score, make_scorer, confusion_matrix\n",
    "from sklearn.feature_extraction.text import TfidfVectorizer\n",
    "from sklearn.decomposition import NMF\n",
    "from itertools import permutations\n",
    "from sklearn import preprocessing\n",
    "from sklearn.linear_model import LogisticRegression\n",
    "from sklearn.base import BaseEstimator, ClassifierMixin\n"
   ]
  },
  {
   "cell_type": "markdown",
   "id": "0c25b888",
   "metadata": {},
   "source": [
    "## Read Dataset"
   ]
  },
  {
   "cell_type": "code",
   "execution_count": 2,
   "id": "0b55ac7d",
   "metadata": {},
   "outputs": [
    {
     "name": "stdout",
     "output_type": "stream",
     "text": [
      "Train Dataset:\n",
      "   ArticleId                                               Text  Category\n",
      "0       1833  worldcom ex-boss launches defence lawyers defe...  business\n",
      "1        154  german business confidence slides german busin...  business\n",
      "2       1101  bbc poll indicates economic gloom citizens in ...  business\n",
      "3       1976  lifestyle  governs mobile choice  faster  bett...      tech\n",
      "4        917  enron bosses in $168m payout eighteen former e...  business\n",
      "\n",
      "\n",
      "Test Dataset:\n",
      "   ArticleId                                               Text\n",
      "0       1018  qpr keeper day heads for preston queens park r...\n",
      "1       1319  software watching while you work software that...\n",
      "2       1138  d arcy injury adds to ireland woe gordon d arc...\n",
      "3        459  india s reliance family feud heats up the ongo...\n",
      "4       1020  boro suffer morrison injury blow middlesbrough...\n"
     ]
    }
   ],
   "source": [
    "train_df = pd.DataFrame()\n",
    "train_df = pd.read_csv('learn-ai-bbc/BBC News Train.csv', encoding = 'utf-8')\n",
    "print('Train Dataset:')\n",
    "print(train_df.head())\n",
    "\n",
    "test_df = pd.DataFrame()\n",
    "test_df = pd.read_csv('learn-ai-bbc/BBC News Test.csv', encoding = 'utf-8')\n",
    "print('\\n\\nTest Dataset:')\n",
    "print(test_df.head())"
   ]
  },
  {
   "cell_type": "markdown",
   "id": "75d9ee0b",
   "metadata": {},
   "source": [
    "## Data Cleaning and Exploratory Data Analysis (EDA)\n",
    "\n",
    "After successfully checking that I have got the right data format. Let's do some data checking and cleaning as well as some exploratory analysis."
   ]
  },
  {
   "cell_type": "code",
   "execution_count": 3,
   "id": "c59d001c",
   "metadata": {},
   "outputs": [
    {
     "name": "stdout",
     "output_type": "stream",
     "text": [
      "<class 'pandas.core.frame.DataFrame'>\n",
      "RangeIndex: 1490 entries, 0 to 1489\n",
      "Data columns (total 3 columns):\n",
      " #   Column     Non-Null Count  Dtype \n",
      "---  ------     --------------  ----- \n",
      " 0   ArticleId  1490 non-null   int64 \n",
      " 1   Text       1490 non-null   object\n",
      " 2   Category   1490 non-null   object\n",
      "dtypes: int64(1), object(2)\n",
      "memory usage: 35.0+ KB\n"
     ]
    }
   ],
   "source": [
    "train_df.info()"
   ]
  },
  {
   "cell_type": "code",
   "execution_count": 4,
   "id": "49754164",
   "metadata": {},
   "outputs": [
    {
     "data": {
      "text/html": [
       "<div>\n",
       "<style scoped>\n",
       "    .dataframe tbody tr th:only-of-type {\n",
       "        vertical-align: middle;\n",
       "    }\n",
       "\n",
       "    .dataframe tbody tr th {\n",
       "        vertical-align: top;\n",
       "    }\n",
       "\n",
       "    .dataframe thead th {\n",
       "        text-align: right;\n",
       "    }\n",
       "</style>\n",
       "<table border=\"1\" class=\"dataframe\">\n",
       "  <thead>\n",
       "    <tr style=\"text-align: right;\">\n",
       "      <th></th>\n",
       "      <th>ArticleId</th>\n",
       "    </tr>\n",
       "  </thead>\n",
       "  <tbody>\n",
       "    <tr>\n",
       "      <th>count</th>\n",
       "      <td>1490.000000</td>\n",
       "    </tr>\n",
       "    <tr>\n",
       "      <th>mean</th>\n",
       "      <td>1119.696644</td>\n",
       "    </tr>\n",
       "    <tr>\n",
       "      <th>std</th>\n",
       "      <td>641.826283</td>\n",
       "    </tr>\n",
       "    <tr>\n",
       "      <th>min</th>\n",
       "      <td>2.000000</td>\n",
       "    </tr>\n",
       "    <tr>\n",
       "      <th>25%</th>\n",
       "      <td>565.250000</td>\n",
       "    </tr>\n",
       "    <tr>\n",
       "      <th>50%</th>\n",
       "      <td>1112.500000</td>\n",
       "    </tr>\n",
       "    <tr>\n",
       "      <th>75%</th>\n",
       "      <td>1680.750000</td>\n",
       "    </tr>\n",
       "    <tr>\n",
       "      <th>max</th>\n",
       "      <td>2224.000000</td>\n",
       "    </tr>\n",
       "  </tbody>\n",
       "</table>\n",
       "</div>"
      ],
      "text/plain": [
       "         ArticleId\n",
       "count  1490.000000\n",
       "mean   1119.696644\n",
       "std     641.826283\n",
       "min       2.000000\n",
       "25%     565.250000\n",
       "50%    1112.500000\n",
       "75%    1680.750000\n",
       "max    2224.000000"
      ]
     },
     "execution_count": 4,
     "metadata": {},
     "output_type": "execute_result"
    }
   ],
   "source": [
    "train_df.describe()"
   ]
  },
  {
   "cell_type": "code",
   "execution_count": 5,
   "id": "48e112f8",
   "metadata": {},
   "outputs": [
    {
     "data": {
      "text/plain": [
       "array(['business', 'tech', 'politics', 'sport', 'entertainment'],\n",
       "      dtype=object)"
      ]
     },
     "execution_count": 5,
     "metadata": {},
     "output_type": "execute_result"
    }
   ],
   "source": [
    "train_df['Category'].unique()"
   ]
  },
  {
   "cell_type": "markdown",
   "id": "4392e164",
   "metadata": {},
   "source": [
    "There are five categories named \"business\", \"tech\", \"politics\", \"sport\" and \"entertainment\""
   ]
  },
  {
   "cell_type": "code",
   "execution_count": 6,
   "id": "01546a16",
   "metadata": {},
   "outputs": [
    {
     "name": "stderr",
     "output_type": "stream",
     "text": [
      "C:\\Users\\Admin\\anaconda3\\lib\\site-packages\\seaborn\\_decorators.py:36: FutureWarning: Pass the following variable as a keyword arg: x. From version 0.12, the only valid positional argument will be `data`, and passing other arguments without an explicit keyword will result in an error or misinterpretation.\n",
      "  warnings.warn(\n"
     ]
    },
    {
     "data": {
      "text/plain": [
       "[Text(0.5, 1.0, 'Category Counts')]"
      ]
     },
     "execution_count": 6,
     "metadata": {},
     "output_type": "execute_result"
    },
    {
     "data": {
      "image/png": "[encoded data removed]",
      "text/plain": [
       "<Figure size 432x288 with 1 Axes>"
      ]
     },
     "metadata": {},
     "output_type": "display_data"
    }
   ],
   "source": [
    "sns.set(style='darkgrid')\n",
    "sns.countplot(train_df['Category'].values).set(title='Category Counts')"
   ]
  },
  {
   "cell_type": "markdown",
   "id": "5754c2ac",
   "metadata": {},
   "source": [
    "I can see the count of each category is roughly above 250 to 350 per category, and not so much difference between those 5 in term of histogram."
   ]
  },
  {
   "cell_type": "code",
   "execution_count": 7,
   "id": "971f7f5d",
   "metadata": {},
   "outputs": [
    {
     "data": {
      "text/plain": [
       "ArticleId    0\n",
       "Text         0\n",
       "Category     0\n",
       "dtype: int64"
      ]
     },
     "execution_count": 7,
     "metadata": {},
     "output_type": "execute_result"
    }
   ],
   "source": [
    "train_df.isna().sum()"
   ]
  },
  {
   "cell_type": "markdown",
   "id": "4671c877",
   "metadata": {},
   "source": [
    "There is no NA values for text or category."
   ]
  },
  {
   "cell_type": "code",
   "execution_count": 8,
   "id": "80dc93a3",
   "metadata": {},
   "outputs": [
    {
     "data": {
      "text/plain": [
       "ArticleId    0\n",
       "Text         0\n",
       "Category     0\n",
       "dtype: int64"
      ]
     },
     "execution_count": 8,
     "metadata": {},
     "output_type": "execute_result"
    }
   ],
   "source": [
    "train_df.isnull().sum()"
   ]
  },
  {
   "cell_type": "markdown",
   "id": "ee1c4a4d",
   "metadata": {},
   "source": [
    "There is no Null values for text or category."
   ]
  },
  {
   "cell_type": "code",
   "execution_count": 9,
   "id": "323a1674",
   "metadata": {},
   "outputs": [
    {
     "data": {
      "text/plain": [
       "0"
      ]
     },
     "execution_count": 9,
     "metadata": {},
     "output_type": "execute_result"
    }
   ],
   "source": [
    "train_df.duplicated().sum()"
   ]
  },
  {
   "cell_type": "markdown",
   "id": "75ffbe8a",
   "metadata": {},
   "source": [
    "There is no duplicated value in the dataset."
   ]
  },
  {
   "cell_type": "code",
   "execution_count": 10,
   "id": "026daba3",
   "metadata": {},
   "outputs": [
    {
     "data": {
      "text/plain": [
       "(1490, 3)"
      ]
     },
     "execution_count": 10,
     "metadata": {},
     "output_type": "execute_result"
    }
   ],
   "source": [
    "train_df.shape"
   ]
  },
  {
   "cell_type": "markdown",
   "id": "83ce83eb",
   "metadata": {},
   "source": [
    "**Let's check out the first news to see what kind of characters in the text. I may need to clean up the non-character words**"
   ]
  },
  {
   "cell_type": "code",
   "execution_count": 11,
   "id": "dda5472c",
   "metadata": {},
   "outputs": [
    {
     "data": {
      "text/plain": [
       "0       worldcom ex-boss launches defence lawyers defe...\n",
       "1       german business confidence slides german busin...\n",
       "2       bbc poll indicates economic gloom citizens in ...\n",
       "3       lifestyle  governs mobile choice  faster  bett...\n",
       "4       enron bosses in $168m payout eighteen former e...\n",
       "                              ...                        \n",
       "1485    double eviction from big brother model caprice...\n",
       "1486    dj double act revamp chart show dj duo jk and ...\n",
       "1487    weak dollar hits reuters revenues at media gro...\n",
       "1488    apple ipod family expands market apple has exp...\n",
       "1489    santy worm makes unwelcome visit thousands of ...\n",
       "Name: Text, Length: 1490, dtype: object"
      ]
     },
     "execution_count": 11,
     "metadata": {},
     "output_type": "execute_result"
    }
   ],
   "source": [
    "train_df['Text']"
   ]
  },
  {
   "cell_type": "code",
   "execution_count": 12,
   "id": "2842afaa",
   "metadata": {},
   "outputs": [
    {
     "data": {
      "text/plain": [
       "'worldcom ex-boss launches defence lawyers defending former worldcom chief bernie ebbers against a battery of fraud charges have called a company whistleblower as their first witness.  cynthia cooper  worldcom s ex-head of internal accounting  alerted directors to irregular accounting practices at the us telecoms giant in 2002. her warnings led to the collapse of the firm following the discovery of an $11bn (£5.7bn) accounting fraud. mr ebbers has pleaded not guilty to charges of fraud and conspiracy.  prosecution lawyers have argued that mr ebbers orchestrated a series of accounting tricks at worldcom  ordering employees to hide expenses and inflate revenues to meet wall street earnings estimates. but ms cooper  who now runs her own consulting business  told a jury in new york on wednesday that external auditors arthur andersen had approved worldcom s accounting in early 2001 and 2002. she said andersen had given a  green light  to the procedures and practices used by worldcom. mr ebber s lawyers have said he was unaware of the fraud  arguing that auditors did not alert him to any problems.  ms cooper also said that during shareholder meetings mr ebbers often passed over technical questions to the company s finance chief  giving only  brief  answers himself. the prosecution s star witness  former worldcom financial chief scott sullivan  has said that mr ebbers ordered accounting adjustments at the firm  telling him to  hit our books . however  ms cooper said mr sullivan had not mentioned  anything uncomfortable  about worldcom s accounting during a 2001 audit committee meeting. mr ebbers could face a jail sentence of 85 years if convicted of all the charges he is facing. worldcom emerged from bankruptcy protection in 2004  and is now known as mci. last week  mci agreed to a buyout by verizon communications in a deal valued at $6.75bn.'"
      ]
     },
     "execution_count": 12,
     "metadata": {},
     "output_type": "execute_result"
    }
   ],
   "source": [
    "train_df.loc[0,'Text']"
   ]
  },
  {
   "cell_type": "markdown",
   "id": "52268fd5",
   "metadata": {},
   "source": [
    "**I can see that the text contains punctuation other non-letters that need to be removed. I use the Python's regular expression lbirary for the task.**"
   ]
  },
  {
   "cell_type": "code",
   "execution_count": 13,
   "id": "afc46f0d",
   "metadata": {},
   "outputs": [],
   "source": [
    "def preprocessor(text):\n",
    "    text = re.sub(r'\\b\\w{1,2}\\b', ' ', text.lower())\n",
    "    text = re.sub('[\\W\\d]+', ' ', text)\n",
    "    return text.strip()"
   ]
  },
  {
   "cell_type": "markdown",
   "id": "e04fc6f1",
   "metadata": {},
   "source": [
    "The regex \\b\\w{1,2}\\b is used. It matches word boundaries (\\b) and checks for words consisting of one or two characters (\\w{1,2}). Words that meet this condition are removed.The regex [\\W\\d]+ is to remove all the non-words character. Finally I convert text into lowercase. Let's see how it works. "
   ]
  },
  {
   "cell_type": "code",
   "execution_count": 14,
   "id": "5f20564c",
   "metadata": {},
   "outputs": [
    {
     "data": {
      "text/plain": [
       "'worldcom boss launches defence lawyers defending former worldcom chief bernie ebbers against battery fraud charges have called company whistleblower their first witness cynthia cooper worldcom head internal accounting alerted directors irregular accounting practices the telecoms giant her warnings led the collapse the firm following the discovery bn bn accounting fraud ebbers has pleaded not guilty charges fraud and conspiracy prosecution lawyers have argued that ebbers orchestrated series accounting tricks worldcom ordering employees hide expenses and inflate revenues meet wall street earnings estimates but cooper who now runs her own consulting business told jury new york wednesday that external auditors arthur andersen had approved worldcom accounting early and she said andersen had given green light the procedures and practices used worldcom ebber lawyers have said was unaware the fraud arguing that auditors did not alert him any problems cooper also said that during shareholder meetings ebbers often passed over technical questions the company finance chief giving only brief answers himself the prosecution star witness former worldcom financial chief scott sullivan has said that ebbers ordered accounting adjustments the firm telling him hit our books however cooper said sullivan had not mentioned anything uncomfortable about worldcom accounting during audit committee meeting ebbers could face jail sentence years convicted all the charges facing worldcom emerged from bankruptcy protection and now known mci last week mci agreed buyout verizon communications deal valued bn'"
      ]
     },
     "execution_count": 14,
     "metadata": {},
     "output_type": "execute_result"
    }
   ],
   "source": [
    "preprocessor(train_df.loc[0,'Text'])"
   ]
  },
  {
   "cell_type": "markdown",
   "id": "a0fd15eb",
   "metadata": {},
   "source": [
    "**The preprocessor function seems to work well. So let's apply the fuction to the text column.**"
   ]
  },
  {
   "cell_type": "code",
   "execution_count": 15,
   "id": "573d5522",
   "metadata": {},
   "outputs": [
    {
     "data": {
      "text/plain": [
       "0       worldcom boss launches defence lawyers defendi...\n",
       "1       german business confidence slides german busin...\n",
       "2       bbc poll indicates economic gloom citizens maj...\n",
       "3       lifestyle governs mobile choice faster better ...\n",
       "4       enron bosses m payout eighteen former enron di...\n",
       "                              ...                        \n",
       "1485    double eviction from big brother model caprice...\n",
       "1486    double act revamp chart show duo and joel are ...\n",
       "1487    weak dollar hits reuters revenues media group ...\n",
       "1488    apple ipod family expands market apple has exp...\n",
       "1489    santy worm makes unwelcome visit thousands web...\n",
       "Name: Text, Length: 1490, dtype: object"
      ]
     },
     "execution_count": 15,
     "metadata": {},
     "output_type": "execute_result"
    }
   ],
   "source": [
    "train_df['Text'] = train_df['Text'].apply(preprocessor)\n",
    "train_df['Text']"
   ]
  },
  {
   "cell_type": "markdown",
   "id": "15b7f09b",
   "metadata": {},
   "source": [
    "**The data review column now only contains characters words. Moreover, I want to process each review into tokens so I'll create a tokenizer function as follow**"
   ]
  },
  {
   "cell_type": "code",
   "execution_count": 16,
   "id": "9eac97f2",
   "metadata": {},
   "outputs": [],
   "source": [
    "def tokenizer(text):\n",
    "    return text.split()"
   ]
  },
  {
   "cell_type": "markdown",
   "id": "9302132b",
   "metadata": {},
   "source": [
    "**Stop-word removal: Stop-words are simply the words that are very common in all sort of texts and probably contain no useful information that can be used. Examples of stop-words are *is, are, and, have, has, like, etc.*\n",
    "We can use the 'stopwords' libary from NLTK library.** "
   ]
  },
  {
   "cell_type": "code",
   "execution_count": 17,
   "id": "6758b83d",
   "metadata": {},
   "outputs": [],
   "source": [
    "def stop_words(text):\n",
    "    stop = stopwords.words('english')\n",
    "    return [w for w in tokenizer(text) if w not in stop]"
   ]
  },
  {
   "cell_type": "markdown",
   "id": "247b682a",
   "metadata": {},
   "source": [
    "**After defining the function stop_words, let's apply stop_words to filter all stop words from our review column.**"
   ]
  },
  {
   "cell_type": "code",
   "execution_count": 18,
   "id": "6cb7fa08",
   "metadata": {},
   "outputs": [
    {
     "data": {
      "text/plain": [
       "0       [worldcom, boss, launches, defence, lawyers, d...\n",
       "1       [german, business, confidence, slides, german,...\n",
       "2       [bbc, poll, indicates, economic, gloom, citize...\n",
       "3       [lifestyle, governs, mobile, choice, faster, b...\n",
       "4       [enron, bosses, payout, eighteen, former, enro...\n",
       "                              ...                        \n",
       "1485    [double, eviction, big, brother, model, capric...\n",
       "1486    [double, act, revamp, chart, show, duo, joel, ...\n",
       "1487    [weak, dollar, hits, reuters, revenues, media,...\n",
       "1488    [apple, ipod, family, expands, market, apple, ...\n",
       "1489    [santy, worm, makes, unwelcome, visit, thousan...\n",
       "Name: Text, Length: 1490, dtype: object"
      ]
     },
     "execution_count": 18,
     "metadata": {},
     "output_type": "execute_result"
    }
   ],
   "source": [
    "txt = train_df['Text'].apply(stop_words)\n",
    "txt"
   ]
  },
  {
   "cell_type": "markdown",
   "id": "348bfd15",
   "metadata": {},
   "source": [
    "**Finding the most frequent words in the dataset**"
   ]
  },
  {
   "cell_type": "code",
   "execution_count": 19,
   "id": "822589f1",
   "metadata": {},
   "outputs": [],
   "source": [
    "def vocab_count(docs):\n",
    "    vocab = defaultdict(int)\n",
    "    for doc in docs:\n",
    "        for token in doc:            \n",
    "            if token not in vocab:\n",
    "                    vocab[token] = 1 \n",
    "            else:\n",
    "                    vocab[token] += 1\n",
    "    return vocab"
   ]
  },
  {
   "cell_type": "code",
   "execution_count": 20,
   "id": "8309292a",
   "metadata": {},
   "outputs": [
    {
     "name": "stdout",
     "output_type": "stream",
     "text": [
      "said : 4839\n",
      "\n",
      "would : 1714\n",
      "\n",
      "year : 1528\n",
      "\n",
      "also : 1426\n",
      "\n",
      "new : 1338\n",
      "\n",
      "people : 1324\n",
      "\n",
      "one : 1249\n",
      "\n",
      "could : 1032\n",
      "\n",
      "first : 934\n",
      "\n",
      "last : 893\n",
      "\n"
     ]
    },
    {
     "data": {
      "image/png": "[encoded data removed]",
      "text/plain": [
       "<Figure size 720x432 with 1 Axes>"
      ]
     },
     "metadata": {},
     "output_type": "display_data"
    }
   ],
   "source": [
    "bag_of_words = vocab_count(txt.values)\n",
    "\n",
    "bag_of_words = {word:count for word,count in sorted(bag_of_words.items(), reverse = True, key = lambda item:item[1])}\n",
    "words = list(bag_of_words.keys())\n",
    "counts = list(bag_of_words.values())\n",
    "\n",
    "for i in range(0,10):\n",
    "    print(words[i] +' : '+ str(counts[i]) + '\\n')\n",
    "\n",
    "plt.figure(figsize=(10,6))\n",
    "plt.title('10 most frequent words in the vocabulary')\n",
    "plt.bar(words[0:10],counts[0:10], color ='yellow')\n",
    "plt.savefig('10_most_frequent_word.png')\n",
    "plt.show()"
   ]
  },
  {
   "cell_type": "markdown",
   "id": "07e9c953",
   "metadata": {},
   "source": [
    "**Now let's print out the 10 most frequent words with its frequencies for each category, then plot the bar graph**"
   ]
  },
  {
   "cell_type": "code",
   "execution_count": 21,
   "id": "d3413cab",
   "metadata": {},
   "outputs": [],
   "source": [
    "def most_frequent_words(category):\n",
    "    \n",
    "    cat = train_df.loc[train_df['Category']== category]\n",
    "    most_words = vocab_count(cat['Text'].apply(stop_words))\n",
    "    most_words = {word:count for word,count in sorted(most_words.items(), reverse = True, key = lambda item:item[1])}\n",
    "\n",
    "    words = list(most_words.keys())\n",
    "    counts = list(most_words.values())\n",
    "\n",
    "    for i in range(0,10):\n",
    "        print(words[i]+' : '+ str(counts[i]) + '\\n')\n",
    "    plt.figure(figsize=(10,6))\n",
    "    plt.title('10 most frequent words for ' + str(category))\n",
    "    plt.bar(words[0:10],counts[0:10], color ='blue')\n",
    "    plt.show()\n",
    "        "
   ]
  },
  {
   "cell_type": "markdown",
   "id": "96063edf",
   "metadata": {},
   "source": [
    "**10 most frequent words for business category**"
   ]
  },
  {
   "cell_type": "code",
   "execution_count": 22,
   "id": "1005fb20",
   "metadata": {},
   "outputs": [
    {
     "name": "stdout",
     "output_type": "stream",
     "text": [
      "said : 1100\n",
      "\n",
      "bn : 535\n",
      "\n",
      "year : 456\n",
      "\n",
      "would : 309\n",
      "\n",
      "market : 284\n",
      "\n",
      "also : 279\n",
      "\n",
      "new : 273\n",
      "\n",
      "firm : 261\n",
      "\n",
      "growth : 257\n",
      "\n",
      "company : 253\n",
      "\n"
     ]
    },
    {
     "data": {
      "image/png": "[encoded data removed]",
      "text/plain": [
       "<Figure size 720x432 with 1 Axes>"
      ]
     },
     "metadata": {},
     "output_type": "display_data"
    }
   ],
   "source": [
    "most_frequent_words('business')"
   ]
  },
  {
   "cell_type": "markdown",
   "id": "3d07354f",
   "metadata": {},
   "source": [
    "**10 most frequent words for politics category**"
   ]
  },
  {
   "cell_type": "code",
   "execution_count": 23,
   "id": "f978153f",
   "metadata": {},
   "outputs": [
    {
     "name": "stdout",
     "output_type": "stream",
     "text": [
      "said : 1445\n",
      "\n",
      "would : 712\n",
      "\n",
      "labour : 494\n",
      "\n",
      "government : 464\n",
      "\n",
      "election : 424\n",
      "\n",
      "blair : 395\n",
      "\n",
      "party : 376\n",
      "\n",
      "people : 372\n",
      "\n",
      "also : 308\n",
      "\n",
      "minister : 286\n",
      "\n"
     ]
    },
    {
     "data": {
      "image/png": "[encoded data removed]",
      "text/plain": [
       "<Figure size 720x432 with 1 Axes>"
      ]
     },
     "metadata": {},
     "output_type": "display_data"
    }
   ],
   "source": [
    "most_frequent_words('politics')"
   ]
  },
  {
   "cell_type": "markdown",
   "id": "7191d002",
   "metadata": {},
   "source": [
    "**10 most frequent words for sport category**"
   ]
  },
  {
   "cell_type": "code",
   "execution_count": 24,
   "id": "a29e1062",
   "metadata": {},
   "outputs": [
    {
     "name": "stdout",
     "output_type": "stream",
     "text": [
      "said : 636\n",
      "\n",
      "game : 356\n",
      "\n",
      "first : 350\n",
      "\n",
      "year : 331\n",
      "\n",
      "england : 329\n",
      "\n",
      "time : 296\n",
      "\n",
      "win : 295\n",
      "\n",
      "two : 290\n",
      "\n",
      "world : 269\n",
      "\n",
      "back : 263\n",
      "\n"
     ]
    },
    {
     "data": {
      "image/png": "[encoded data removed]",
      "text/plain": [
       "<Figure size 720x432 with 1 Axes>"
      ]
     },
     "metadata": {},
     "output_type": "display_data"
    }
   ],
   "source": [
    "most_frequent_words('sport')"
   ]
  },
  {
   "cell_type": "markdown",
   "id": "9972c818",
   "metadata": {},
   "source": [
    "**10 most frequent words for tech category**"
   ]
  },
  {
   "cell_type": "code",
   "execution_count": 25,
   "id": "c8f26635",
   "metadata": {},
   "outputs": [
    {
     "name": "stdout",
     "output_type": "stream",
     "text": [
      "said : 1064\n",
      "\n",
      "people : 647\n",
      "\n",
      "one : 355\n",
      "\n",
      "new : 349\n",
      "\n",
      "also : 348\n",
      "\n",
      "mobile : 343\n",
      "\n",
      "would : 322\n",
      "\n",
      "could : 308\n",
      "\n",
      "technology : 303\n",
      "\n",
      "users : 268\n",
      "\n"
     ]
    },
    {
     "data": {
      "image/png": "[encoded data removed]",
      "text/plain": [
       "<Figure size 720x432 with 1 Axes>"
      ]
     },
     "metadata": {},
     "output_type": "display_data"
    }
   ],
   "source": [
    "most_frequent_words('tech')"
   ]
  },
  {
   "cell_type": "markdown",
   "id": "09779204",
   "metadata": {},
   "source": [
    "**10 most frequent words for entertainment category**"
   ]
  },
  {
   "cell_type": "code",
   "execution_count": 26,
   "id": "e5593b85",
   "metadata": {},
   "outputs": [
    {
     "name": "stdout",
     "output_type": "stream",
     "text": [
      "said : 594\n",
      "\n",
      "film : 583\n",
      "\n",
      "best : 430\n",
      "\n",
      "year : 315\n",
      "\n",
      "also : 277\n",
      "\n",
      "one : 265\n",
      "\n",
      "music : 255\n",
      "\n",
      "new : 234\n",
      "\n",
      "show : 222\n",
      "\n",
      "first : 188\n",
      "\n"
     ]
    },
    {
     "data": {
      "image/png": "[encoded data removed]",
      "text/plain": [
       "<Figure size 720x432 with 1 Axes>"
      ]
     },
     "metadata": {},
     "output_type": "display_data"
    }
   ],
   "source": [
    "most_frequent_words('entertainment')"
   ]
  },
  {
   "cell_type": "markdown",
   "id": "fcb72e28",
   "metadata": {},
   "source": [
    "**Transforming words into feature vector:The bag-of-words model, which allows us to represent text as numerical features.**\n",
    "1. Create a vocabulary of unique tokens such as words from the entire set of documents.\n",
    "2. Construct a vector from each document that contains the counts of how often each word occurs in the particular document.\n"
   ]
  },
  {
   "cell_type": "markdown",
   "id": "6cc141b4",
   "metadata": {},
   "source": [
    "**A method to downweight the frequently occuring words in the feature vectors called term frequency-inverse document frequency (tf-idf). The tf-idf can be defined as the product of the term frequency and the inverse document frequency:** *tf-idf(t,d)=tf(t,d)xidf(t,d).*\n",
    "<br>\n",
    "**Here *tf(t,d)* is the term frequency and idf(t,d) is the inverse document frequency which is computed as follows:** *idf(t,d) = log((n)/(1+df(t,d)) where df(t,d) is the number of documents that contains the term and n is the total number of documents.*\n",
    "<br>\n",
    "**Please note that sklearn has all the libraries such as CountVectorizer or TfidfVectorizer that do all the works for us, you can take a look at the sklearn library for more info**"
   ]
  },
  {
   "cell_type": "code",
   "execution_count": 27,
   "id": "043803b1",
   "metadata": {},
   "outputs": [
    {
     "data": {
      "text/plain": [
       "<1490x23113 sparse matrix of type '<class 'numpy.float64'>'\n",
       "\twith 203870 stored elements in Compressed Sparse Row format>"
      ]
     },
     "execution_count": 27,
     "metadata": {},
     "output_type": "execute_result"
    }
   ],
   "source": [
    "tfidf_vectorizer = TfidfVectorizer(lowercase = False, tokenizer = tokenizer, stop_words = 'english')\n",
    "train_tfidf = tfidf_vectorizer.fit_transform(train_df['Text'])\n",
    "test_tfidf = tfidf_vectorizer.transform(test_df['Text'])\n",
    "train_tfidf"
   ]
  },
  {
   "cell_type": "code",
   "execution_count": 28,
   "id": "e168ad37",
   "metadata": {},
   "outputs": [
    {
     "data": {
      "text/plain": [
       "<735x23113 sparse matrix of type '<class 'numpy.float64'>'\n",
       "\twith 89876 stored elements in Compressed Sparse Row format>"
      ]
     },
     "execution_count": 28,
     "metadata": {},
     "output_type": "execute_result"
    }
   ],
   "source": [
    "test_tfidf"
   ]
  },
  {
   "cell_type": "markdown",
   "id": "84f897c2",
   "metadata": {},
   "source": [
    "**After implementing TfidfVectorizer to convert text column into vector. I will save the data as X for all text vector array, and y as prediction array**"
   ]
  },
  {
   "cell_type": "code",
   "execution_count": 29,
   "id": "2c402862",
   "metadata": {},
   "outputs": [
    {
     "data": {
      "text/plain": [
       "<1490x23113 sparse matrix of type '<class 'numpy.float64'>'\n",
       "\twith 203870 stored elements in Compressed Sparse Row format>"
      ]
     },
     "execution_count": 29,
     "metadata": {},
     "output_type": "execute_result"
    }
   ],
   "source": [
    "X = train_tfidf\n",
    "X"
   ]
  },
  {
   "cell_type": "code",
   "execution_count": 30,
   "id": "9dfeacc5",
   "metadata": {},
   "outputs": [
    {
     "data": {
      "text/plain": [
       "0            business\n",
       "1            business\n",
       "2            business\n",
       "3                tech\n",
       "4            business\n",
       "            ...      \n",
       "1485    entertainment\n",
       "1486    entertainment\n",
       "1487         business\n",
       "1488             tech\n",
       "1489             tech\n",
       "Name: Category, Length: 1490, dtype: object"
      ]
     },
     "execution_count": 30,
     "metadata": {},
     "output_type": "execute_result"
    }
   ],
   "source": [
    "y= train_df['Category']\n",
    "y"
   ]
  },
  {
   "cell_type": "markdown",
   "id": "e4e95834",
   "metadata": {},
   "source": [
    "**I want to develop a few help functions to caculate precision as well as recall, and to plot confusion matrix**"
   ]
  },
  {
   "cell_type": "code",
   "execution_count": 31,
   "id": "2b83069b",
   "metadata": {},
   "outputs": [],
   "source": [
    "def calculate_precision(y_true, y_pred):\n",
    "     \n",
    "    return precision_score(y_true,y_pred, average = 'weighted')\n",
    "\n",
    "def calculate_recall(y_true, y_pred):\n",
    "   \n",
    "    return recall_score(y_true,y_pred, average = 'weighted')\n",
    "\n",
    "def plot_confusion_matrix(conf_matrix):    \n",
    "        \n",
    "    plt.figure(figsize=(8,6))\n",
    "    \n",
    "    sns.set(font_scale = 1.1)\n",
    "\n",
    "    ax = sns.heatmap(conf_matrix, annot= True, fmt='d')\n",
    "   \n",
    "    ax.set_xlabel(\"Prediction\", fontsize=14, labelpad=20)\n",
    "    \n",
    "\n",
    "    ax.set_ylabel(\"Actual\", fontsize=14, labelpad=20)\n",
    "    ax.xaxis.set_ticklabels(list(train_df['Category'].unique())); \n",
    "    ax.yaxis.set_ticklabels(list(train_df['Category'].unique()));\n",
    "\n",
    "    ax.set_title(\"Confusion Matrix\", fontsize=14, pad=20)\n",
    "    plt.show()\n",
    "    \n",
    "def test_submit(y_pred):\n",
    "    try:\n",
    "        test_df['Category'] = y_pred\n",
    "        submit_df = test_df.drop('Text', axis=1)\n",
    "        submit_df.to_csv(\"submission.csv\", index=False)\n",
    "        print('File saved to submission.csv')\n",
    "    except:\n",
    "          print(\"Error trying to create submission.csv\")"
   ]
  },
  {
   "cell_type": "markdown",
   "id": "7d5fa6b5",
   "metadata": {},
   "source": [
    "### Unsupervised Learning Using NMF\n"
   ]
  },
  {
   "cell_type": "markdown",
   "id": "e217ef34",
   "metadata": {},
   "source": [
    "**I will use non-negative factorization method to transform X, and use the transformed matrix to classify the news into appropriate category**"
   ]
  },
  {
   "cell_type": "code",
   "execution_count": 32,
   "id": "b7134a04",
   "metadata": {},
   "outputs": [],
   "source": [
    "class NMFClassifier(BaseEstimator, ClassifierMixin):\n",
    "    def __init__(self, n_components=5, random_state=None, init = None, solver='cd',beta_loss = 'frobenius'):\n",
    "        self.n_components = n_components\n",
    "        self.random_state = random_state\n",
    "        self.init = init\n",
    "        self.solver = solver\n",
    "        self.beta_loss = beta_loss\n",
    "        self.nmf = None\n",
    "        self.best_permutation = None\n",
    "        self.best_accuracy = 0.0\n",
    "        self.X_nmf = None\n",
    "        self.y_nmf = None\n",
    "    def fit(self, X, y):\n",
    "        self.nmf = NMF(n_components=self.n_components, init=self.init, solver=self.solver,\n",
    "                       random_state=self.random_state, beta_loss=self.beta_loss)\n",
    "        \n",
    "        self.X_nmf = self.nmf.fit_transform(X,y) \n",
    "        self.y_nmf = y\n",
    "              \n",
    "        return self\n",
    "    \n",
    "    def predict(self, X):\n",
    "        X_nmf = self.X_nmf\n",
    "        y_true = self.y_nmf\n",
    "        y_pred = np.argmax(X_nmf, axis=1)\n",
    "        labels = np.array(np.unique(y_true))\n",
    "              \n",
    "        for perm in permutations(labels):\n",
    "            y_permuted = np.array([perm[label] for label in y_pred])\n",
    "            accuracy = accuracy_score(y_true, y_permuted)\n",
    "            if accuracy > self.best_accuracy:\n",
    "                self.best_accuracy = accuracy\n",
    "                self.best_permutation = perm\n",
    "        y_pred = np.array([self.best_permutation[label] for label in y_pred])\n",
    "        return y_pred\n",
    "                "
   ]
  },
  {
   "cell_type": "code",
   "execution_count": 33,
   "id": "b9a535ae",
   "metadata": {},
   "outputs": [
    {
     "name": "stdout",
     "output_type": "stream",
     "text": [
      "Encoded Label 0 corresponds to Original Label: business\n",
      "Encoded Label 1 corresponds to Original Label: entertainment\n",
      "Encoded Label 2 corresponds to Original Label: politics\n",
      "Encoded Label 3 corresponds to Original Label: sport\n",
      "Encoded Label 4 corresponds to Original Label: tech\n",
      "RMSE: 0.7322851976779642\n",
      "Best Accuracy: 0.9241610738255034\n",
      "Best Permutation: (3, 2, 4, 1, 0)\n",
      "Train Accuracy Score:  0.9241610738255034\n",
      "Train Precision Score:  0.9290603041781647\n",
      "Train Recall Score:  0.9241610738255034\n"
     ]
    }
   ],
   "source": [
    "accuracy_score_list = []\n",
    "precision_score_list = []\n",
    "recall_score_list = []\n",
    "\n",
    "\n",
    "# Fit and transform non-negative-matrix factorization\n",
    "n_components = 5\n",
    "nmf = NMFClassifier(n_components=n_components, random_state=0)\n",
    "\n",
    "\n",
    "# Encode the labels\n",
    "labelEncoder = preprocessing.LabelEncoder()\n",
    "y = pd.DataFrame()\n",
    "y = labelEncoder.fit_transform(train_df['Category'])\n",
    "label_mapping = dict(zip(range(len(labelEncoder.classes_)), labelEncoder.classes_))\n",
    "\n",
    "# Print the mapping\n",
    "for encoded_label, original_label in label_mapping.items():\n",
    "    print(f\"Encoded Label {encoded_label} corresponds to Original Label: {original_label}\")\n",
    "\n",
    "# Perform label permutation and evaluate accuracy\n",
    "nmf = nmf.fit(X,y)\n",
    "y_pred = nmf.predict(X)\n",
    "\n",
    "best_accuracy = nmf.best_accuracy\n",
    "best_permutation = nmf.best_permutation\n",
    "precision = calculate_precision(y,y_pred)\n",
    "recall = calculate_recall(y,y_pred)\n",
    "\n",
    "accuracy_score_list.append(best_accuracy)\n",
    "precision_score_list.append(precision)\n",
    "recall_score_list.append(recall)\n",
    "\n",
    "# Print the RMSE, Best Accuracy, Train Accuracy Score and the corresponding permutation\n",
    "print(\"RMSE:\", np.sqrt(((y-y_pred)**2).mean()))\n",
    "print(\"Best Accuracy:\", best_accuracy)\n",
    "print(\"Best Permutation:\", best_permutation)\n",
    "print(\"Train Accuracy Score: \",accuracy_score(y,y_pred))\n",
    "print(\"Train Precision Score: \",precision)\n",
    "print(\"Train Recall Score: \",recall)\n",
    "\n"
   ]
  },
  {
   "cell_type": "code",
   "execution_count": 34,
   "id": "3e57d8f0",
   "metadata": {},
   "outputs": [
    {
     "data": {
      "image/png": "[encoded data removed]",
      "text/plain": [
       "<Figure size 576x432 with 2 Axes>"
      ]
     },
     "metadata": {},
     "output_type": "display_data"
    }
   ],
   "source": [
    "conf_matrix = confusion_matrix(y,y_pred)\n",
    "plot_confusion_matrix(conf_matrix)"
   ]
  },
  {
   "cell_type": "markdown",
   "id": "0f32497b",
   "metadata": {},
   "source": [
    "#### Hyperparameters Tuning for Unsupervised Learning"
   ]
  },
  {
   "cell_type": "code",
   "execution_count": 35,
   "id": "23836408",
   "metadata": {},
   "outputs": [
    {
     "name": "stdout",
     "output_type": "stream",
     "text": [
      "Best Parameters: {'beta_loss': 'frobenius', 'init': 'nndsvd', 'solver': 'cd'}\n"
     ]
    }
   ],
   "source": [
    "# Create the NMF classifier\n",
    "nmf_classifier = NMFClassifier(n_components=5, random_state=0)\n",
    "# Create the parameter grid\n",
    "param_grid = {\n",
    "    'init': ['nndsvd', 'nndsvda', 'nndsvdar'],\n",
    "    'solver': ['cd', 'mu'],\n",
    "    'beta_loss': ['frobenius', 'kullback-leibler', 'itakura-saito']\n",
    "}\n",
    "grid = GridSearchCV(nmf_classifier, param_grid, cv=5)\n",
    "with warnings.catch_warnings():\n",
    "    warnings.filterwarnings(\"ignore\")\n",
    "\n",
    "    # Fit the GridSearchCV object to the data\n",
    "    grid.fit(X,y)\n",
    "\n",
    "    # Get the best score and best parameters\n",
    "    best_params = grid.best_params_\n",
    "    print(\"Best Parameters:\", best_params)"
   ]
  },
  {
   "cell_type": "code",
   "execution_count": 36,
   "id": "e813ba94",
   "metadata": {},
   "outputs": [
    {
     "name": "stdout",
     "output_type": "stream",
     "text": [
      "RMSE: 0.7322851976779642\n",
      "Best Accuracy: 0.9241610738255034\n",
      "Best Permutation: (3, 2, 4, 1, 0)\n",
      "Train Accuracy Score:  0.9241610738255034\n",
      "Train Precision Score:  0.9290603041781647\n",
      "Train Recall Score:  0.9241610738255034\n"
     ]
    }
   ],
   "source": [
    "model = grid.best_estimator_\n",
    "y_pred = model.predict(X) \n",
    "best_accuracy = model.best_accuracy\n",
    "best_permutation = model.best_permutation\n",
    "precision = calculate_precision(y,y_pred)\n",
    "recall = calculate_recall(y,y_pred)\n",
    "\n",
    "\n",
    "# Print the RMSE, Best Accuracy, Train Accuracy Score and the corresponding permutation\n",
    "print(\"RMSE:\", np.sqrt(((y-y_pred)**2).mean()))\n",
    "print(\"Best Accuracy:\", best_accuracy)\n",
    "print(\"Best Permutation:\", best_permutation)\n",
    "print(\"Train Accuracy Score: \",accuracy_score(y,y_pred))\n",
    "print(\"Train Precision Score: \",precision)\n",
    "print(\"Train Recall Score: \",recall)"
   ]
  },
  {
   "cell_type": "markdown",
   "id": "986a223d",
   "metadata": {},
   "source": [
    "It just happened that I have the best parameters set already"
   ]
  },
  {
   "cell_type": "markdown",
   "id": "39eab012",
   "metadata": {},
   "source": [
    "#### Ensemble Unsupervised Learning with a Supervised Learning"
   ]
  },
  {
   "cell_type": "code",
   "execution_count": 37,
   "id": "b80ac631",
   "metadata": {},
   "outputs": [
    {
     "name": "stdout",
     "output_type": "stream",
     "text": [
      "RMSE: 0.5550258473937658\n",
      "Train Precision Score:  0.9564678298649162\n",
      "Train Recall Score:  0.9563758389261745\n",
      "Train Accuracy Score: 0.9563758389261745\n"
     ]
    }
   ],
   "source": [
    "X_nmf = model.X_nmf\n",
    "from sklearn.pipeline import make_pipeline, Pipeline\n",
    "from sklearn.preprocessing import StandardScaler\n",
    "from sklearn.svm import SVC\n",
    "\n",
    "clf = make_pipeline(StandardScaler(), SVC(gamma='auto'))\n",
    "clf.fit(X_nmf, y)\n",
    "Pipeline(steps=[('standardscaler', StandardScaler()),('svc', SVC(gamma='auto'))])\n",
    "y_pred = clf.predict(X_nmf)\n",
    "acc_score = clf.score(X_nmf,y)\n",
    "precision = calculate_precision(y,y_pred)\n",
    "recall = calculate_recall(y,y_pred)\n",
    "\n",
    "accuracy_score_list.append(acc_score)\n",
    "precision_score_list.append(precision)\n",
    "recall_score_list.append(recall)\n",
    "\n",
    "print(\"RMSE:\", np.sqrt(((y-y_pred)**2).mean()))\n",
    "print(\"Train Precision Score: \", precision)\n",
    "print(\"Train Recall Score: \", recall)\n",
    "print(\"Train Accuracy Score:\", acc_score)\n"
   ]
  },
  {
   "cell_type": "markdown",
   "id": "4c8bbca8",
   "metadata": {},
   "source": [
    "**I can see much improvement on precision, recall as well as accuracy after esnembling my unsupervised model with Support Vector Machine. The RMSE is lower than before ensembling which indicates a better model.**"
   ]
  },
  {
   "cell_type": "code",
   "execution_count": 38,
   "id": "292500d4",
   "metadata": {},
   "outputs": [
    {
     "data": {
      "image/png": "[encoded data removed]",
      "text/plain": [
       "<Figure size 576x432 with 2 Axes>"
      ]
     },
     "metadata": {},
     "output_type": "display_data"
    }
   ],
   "source": [
    "conf_matrix = confusion_matrix(y,y_pred)\n",
    "plot_confusion_matrix(conf_matrix)"
   ]
  },
  {
   "cell_type": "markdown",
   "id": "1ee70f6e",
   "metadata": {},
   "source": [
    "### Supervised Learning Using Logistic Regression"
   ]
  },
  {
   "cell_type": "code",
   "execution_count": 39,
   "id": "2ed5c265",
   "metadata": {},
   "outputs": [
    {
     "name": "stdout",
     "output_type": "stream",
     "text": [
      "(745, 23113)\n",
      "(745, 23113)\n",
      "(745,)\n",
      "(745,)\n"
     ]
    }
   ],
   "source": [
    "X_train, X_test, y_train, y_test = train_test_split(X,y,test_size =0.5, random_state =42)\n",
    "print(X_train.shape)\n",
    "print(X_test.shape)\n",
    "print(y_train.shape)\n",
    "print(y_test.shape)"
   ]
  },
  {
   "cell_type": "code",
   "execution_count": 40,
   "id": "c5dd3061",
   "metadata": {},
   "outputs": [
    {
     "name": "stdout",
     "output_type": "stream",
     "text": [
      "RMSE: 0.39629153393148814\n",
      "Test Precision Score:  0.9668746468033347\n",
      "Test Recall Score:  0.9664429530201343\n",
      "Test Accuracy Score: 0.9664429530201343\n"
     ]
    }
   ],
   "source": [
    "LogReg = LogisticRegression(solver='liblinear').fit(X_train,y_train)\n",
    "y_pred = LogReg.predict(X_test) \n",
    "acc_score = LogReg.score(X_test,y_test)\n",
    "precision = calculate_precision(y_test,y_pred)\n",
    "recall = calculate_recall(y_test,y_pred)\n",
    "\n",
    "print(\"RMSE:\", np.sqrt(((y_test-y_pred)**2).mean()))\n",
    "print(\"Test Precision Score: \", precision)\n",
    "print(\"Test Recall Score: \", recall)\n",
    "print(\"Test Accuracy Score:\", acc_score)\n"
   ]
  },
  {
   "cell_type": "markdown",
   "id": "0c8919b0",
   "metadata": {},
   "source": [
    "**The RMSE for Logistic Regression is lower than ensembled unsupervised learning's which indicates a better model. The precision, recall and accuracy scores are higher than ensembled unsupervised learning's.**"
   ]
  },
  {
   "cell_type": "markdown",
   "id": "89133058",
   "metadata": {},
   "source": [
    "#### K-fold cross validation for logistic regression with 10-fold"
   ]
  },
  {
   "cell_type": "code",
   "execution_count": 41,
   "id": "a150c34c",
   "metadata": {},
   "outputs": [
    {
     "name": "stdout",
     "output_type": "stream",
     "text": [
      "Precision Score for 10-fold:  0.9594133316348257\n",
      "Recall Score for 10-fold:  0.9583892617449664\n",
      "Accuracy Score for 10-fold: 0.9583423423423424\n"
     ]
    }
   ],
   "source": [
    "model = LogisticRegression(solver ='liblinear',max_iter=1000)\n",
    "\n",
    "y_pred = cross_val_predict(model,X_test,y_test, cv=10)\n",
    "\n",
    "acc_score = cross_val_score(model,X_test,y_test, cv= 10)\n",
    "precision = calculate_precision(y_test,y_pred)\n",
    "recall = calculate_recall(y_test,y_pred)\n",
    "print(\"Precision Score for 10-fold: \",precision)\n",
    "print(\"Recall Score for 10-fold: \", recall)\n",
    "print(\"Accuracy Score for 10-fold:\", np.mean(acc_score))"
   ]
  },
  {
   "cell_type": "markdown",
   "id": "50e39188",
   "metadata": {},
   "source": [
    "*It does not seem like our logistic model suffers from overfitting. Let's apply GridSearchCV to find the best parameters for logistic regression.*"
   ]
  },
  {
   "cell_type": "code",
   "execution_count": 42,
   "id": "ecde285a",
   "metadata": {},
   "outputs": [
    {
     "name": "stdout",
     "output_type": "stream",
     "text": [
      "Best Accuracy: 0.9625405405405406\n",
      "Best Parameters: {'C': 100.0, 'penalty': 'l2'}\n"
     ]
    }
   ],
   "source": [
    "c_range = [1.0,10.0,100.0]\n",
    "penalty = ['l1','l2']\n",
    "parameters = {'C':c_range, 'penalty':penalty}\n",
    "model = LogisticRegression(solver='liblinear', max_iter=1000)\n",
    "grid = GridSearchCV(model,parameters, cv=10).fit(X_train,y_train)\n",
    "print('Best Accuracy:', grid.best_score_)\n",
    "print('Best Parameters:',grid.best_params_)"
   ]
  },
  {
   "cell_type": "code",
   "execution_count": 43,
   "id": "cf4d2fbd",
   "metadata": {},
   "outputs": [
    {
     "name": "stdout",
     "output_type": "stream",
     "text": [
      "RMSE: 0.41611820726340176\n",
      "Best Test Precision Score:  0.9690439123221989\n",
      "Best Test Recall Score:  0.9691275167785235\n",
      "Best Test Accuracy Score: 0.9691275167785235\n"
     ]
    }
   ],
   "source": [
    "model = grid.best_estimator_\n",
    "y_pred = model.predict(X_test) \n",
    "\n",
    "acc_score = model.score(X_test,y_test)\n",
    "\n",
    "precision = calculate_precision(y_test,y_pred)\n",
    "recall = calculate_recall(y_test,y_pred)\n",
    "\n",
    "accuracy_score_list.append(acc_score)\n",
    "precision_score_list.append(precision)\n",
    "recall_score_list.append(recall)\n",
    "\n",
    "print(\"RMSE:\", np.sqrt(((y_test-y_pred)**2).mean()))\n",
    "print(\"Best Test Precision Score: \",precision)\n",
    "print(\"Best Test Recall Score: \",recall)\n",
    "print(\"Best Test Accuracy Score:\", acc_score)"
   ]
  },
  {
   "cell_type": "markdown",
   "id": "d84c0907",
   "metadata": {},
   "source": [
    "*We have a slightly higher RMSE for the best estimator from our original Logistic Regression. However, the accuracy, recall and precision scores are better than the oirginal Logistic Regression*"
   ]
  },
  {
   "cell_type": "code",
   "execution_count": 44,
   "id": "43183cea",
   "metadata": {},
   "outputs": [
    {
     "data": {
      "image/png": "[encoded data removed]",
      "text/plain": [
       "<Figure size 576x432 with 2 Axes>"
      ]
     },
     "metadata": {},
     "output_type": "display_data"
    }
   ],
   "source": [
    "conf_matrix = confusion_matrix(y_test,y_pred)\n",
    "conf_matrix\n",
    "plot_confusion_matrix(conf_matrix)"
   ]
  },
  {
   "cell_type": "markdown",
   "id": "772b1066",
   "metadata": {},
   "source": [
    "**After finding that Logistic Regression has a better accuracy score, let's apply the Logistic Regression on the full train dataset and use that to predict the test dataset**"
   ]
  },
  {
   "cell_type": "code",
   "execution_count": 45,
   "id": "c155ca85",
   "metadata": {},
   "outputs": [
    {
     "name": "stdout",
     "output_type": "stream",
     "text": [
      "File saved to submission.csv\n",
      "Submission Accuracy Score on Kaggle: 0.98367\n"
     ]
    }
   ],
   "source": [
    "LogReg = model.fit(X,y)\n",
    "y_test_pred = LogReg.predict(test_tfidf)\n",
    "y_test_pred = labelEncoder.inverse_transform(y_test_pred)\n",
    "test_submit(y_test_pred)\n",
    "print('Submission Accuracy Score on Kaggle:', 0.98367)"
   ]
  },
  {
   "cell_type": "markdown",
   "id": "ed62d309",
   "metadata": {},
   "source": [
    "## Result, Analysis and Discussion "
   ]
  },
  {
   "cell_type": "code",
   "execution_count": 46,
   "id": "722da8cb",
   "metadata": {},
   "outputs": [
    {
     "name": "stdout",
     "output_type": "stream",
     "text": [
      "Model Results Comparision Table\n"
     ]
    },
    {
     "data": {
      "text/html": [
       "<div>\n",
       "<style scoped>\n",
       "    .dataframe tbody tr th:only-of-type {\n",
       "        vertical-align: middle;\n",
       "    }\n",
       "\n",
       "    .dataframe tbody tr th {\n",
       "        vertical-align: top;\n",
       "    }\n",
       "\n",
       "    .dataframe thead th {\n",
       "        text-align: right;\n",
       "    }\n",
       "</style>\n",
       "<table border=\"1\" class=\"dataframe\">\n",
       "  <thead>\n",
       "    <tr style=\"text-align: right;\">\n",
       "      <th></th>\n",
       "      <th>Accuracy</th>\n",
       "      <th>Precision</th>\n",
       "      <th>Recall</th>\n",
       "      <th>Dataset</th>\n",
       "    </tr>\n",
       "  </thead>\n",
       "  <tbody>\n",
       "    <tr>\n",
       "      <th>NMF</th>\n",
       "      <td>0.924161</td>\n",
       "      <td>0.929060</td>\n",
       "      <td>0.924161</td>\n",
       "      <td>Train</td>\n",
       "    </tr>\n",
       "    <tr>\n",
       "      <th>NMF&amp;SVM</th>\n",
       "      <td>0.956376</td>\n",
       "      <td>0.956468</td>\n",
       "      <td>0.956376</td>\n",
       "      <td>Train</td>\n",
       "    </tr>\n",
       "    <tr>\n",
       "      <th>Logistic Regression</th>\n",
       "      <td>0.969128</td>\n",
       "      <td>0.969044</td>\n",
       "      <td>0.969128</td>\n",
       "      <td>Train 50%</td>\n",
       "    </tr>\n",
       "  </tbody>\n",
       "</table>\n",
       "</div>"
      ],
      "text/plain": [
       "                     Accuracy  Precision    Recall    Dataset\n",
       "NMF                  0.924161   0.929060  0.924161      Train\n",
       "NMF&SVM              0.956376   0.956468  0.956376      Train\n",
       "Logistic Regression  0.969128   0.969044  0.969128  Train 50%"
      ]
     },
     "execution_count": 46,
     "metadata": {},
     "output_type": "execute_result"
    }
   ],
   "source": [
    "set_type = ['Train', 'Train', 'Train 50%']\n",
    "data = {'Accuracy': accuracy_score_list, 'Precision': precision_score_list, 'Recall':recall_score_list, 'Dataset': set_type}\n",
    "result_df = pd.DataFrame(data)\n",
    "result_df.index = ['NMF', 'NMF&SVM','Logistic Regression']\n",
    "print('Model Results Comparision Table')\n",
    "result_df"
   ]
  },
  {
   "cell_type": "markdown",
   "id": "9295126a",
   "metadata": {},
   "source": [
    "**The table shows that even though NMF is unsupervised learning but can predict quite well for multiclassification with accuracy about 92.4%. If we ensemble our NMF model with SVM, the accuracy improves to 95.6%. Please note that the accuracy score for unsupervised learning models achieved from the full train dataset. Meanwhile, logistic regression that was trained on 50% of train dataset, and later was used to predict the other 50% train dataset, has the best accuracy around 96.9%.** "
   ]
  },
  {
   "cell_type": "markdown",
   "id": "c858c979",
   "metadata": {},
   "source": [
    "**Typically, NMF typically requires a sufficient amount of data to accurately capture the underlying patterns and structure. If you have a small dataset, the performance of NMF may be limited compared to supervised learning model such as Logistic Regression or SVM.  \n",
    "While NMF is a powerful technique for matrix factorization, it may not be the best choice for all types of data or tasks. There could be other models or algorithms that are better suited.  \n",
    "Ensembling NMF with a supervised learning model such as SVM can increase our model performance and accuracy.**"
   ]
  },
  {
   "cell_type": "markdown",
   "id": "b17aa918",
   "metadata": {},
   "source": [
    "### Sources\n",
    "*Transforming words into feature vectors, assessing word relevancy via term frequency-inverse document frequency - Chapter 8 of \"Applying Machine Learning to Sentiment Analysis\" from \"Python Machine Learning and Deep Learning with Python, scikit-learn, and TensorFlow 2\", 3rd Edition by Sebastian Raschaka & Vahid Mirjallo*"
   ]
  }
 ],
 "metadata": {
  "kernelspec": {
   "display_name": "Python 3 (ipykernel)",
   "language": "python",
   "name": "python3"
  },
  "language_info": {
   "codemirror_mode": {
    "name": "ipython",
    "version": 3
   },
   "file_extension": ".py",
   "mimetype": "text/x-python",
   "name": "python",
   "nbconvert_exporter": "python",
   "pygments_lexer": "ipython3",
   "version": "3.9.12"
  }
 },
 "nbformat": 4,
 "nbformat_minor": 5
}
